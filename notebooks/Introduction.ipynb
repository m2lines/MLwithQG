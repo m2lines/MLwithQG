{
 "cells": [
  {
   "cell_type": "markdown",
   "metadata": {
    "tags": []
   },
   "source": [
    "# Introduction"
   ]
  },
  {
   "cell_type": "markdown",
   "metadata": {},
   "source": [
    "We are able to virtually simulate the continuous processes of ocean and climate models in discrete and finite resolutions however are limited in the fineness of these resolutions due to inherent barriers in computational resources and time. In an effort to predict the behavior of high resolution simulations but at low resolution settings to adjust for technological constraints, we ultimately end up facing issues with errors that surface from continuous discretizations in resolution, particularly in the loss of underlying forcings that occur on higher scales. Despite  this, subgrid parameterizations provide us with the means to resolve those higher-level effects that are lost on the finite grids of ocean and climsate models that we utilize. By employing machine learning techniques, more specifically learning these parameterizations through neural networks, we can build improved low resolution simulations to more fittingly exemplify the processes occurring in higher resolution settings, bringing us closer to approximating the grand continuous system of the ocean and climate.\n",
    "\n",
    "The purpose of this book is to serve as a guiding source of documentation to explore and reproduce the results from the paper <em>Benchmarking of machine learning ocean subgrid parameterizations in an idealized model</em> [[Ross22](https://www.essoar.org/doi/10.1002/essoar.10511742.2)] in an efficient and transparent broken-down series of formative, tutorial-based parts. We will open the way for readers to recreate these results using [pyqg](https://pyqg.readthedocs.io/en/latest/), an open-source Python framework for running quasi-geostrophic ocean simulations. We discuss running unique high resolutions simulations, and working with existing and generated datasets. This extends to applying filters and coarse-graining techniques to generate distinct low resolution datasets and retrieving preexisting datasets from the cloud. We then train various fully convolutional neural networks (FCNNs) on these low resolution datasets to predict desired subgrid parameterizations and conclusively measure learning performance against each neural network strata based on the numerous metrics employed within the paper.\n",
    "\n",
    "This book was made as part of M<sup>2</sup>LInES for team members to be able to set up their own environments to replicate and further more build upon the findings from the paper, more seamlessly and efficiently relate this work into other overlapping or connected projects, and even better collaborate as peers with one another.\n",
    "\n"
   ]
  }
 ],
 "metadata": {
  "kernelspec": {
   "display_name": "Python 3 (ipykernel)",
   "language": "python",
   "name": "python3"
  },
  "language_info": {
   "codemirror_mode": {
    "name": "ipython",
    "version": 3
   },
   "file_extension": ".py",
   "mimetype": "text/x-python",
   "name": "python",
   "nbconvert_exporter": "python",
   "pygments_lexer": "ipython3",
   "version": "3.8.5"
  }
 },
 "nbformat": 4,
 "nbformat_minor": 4
}
