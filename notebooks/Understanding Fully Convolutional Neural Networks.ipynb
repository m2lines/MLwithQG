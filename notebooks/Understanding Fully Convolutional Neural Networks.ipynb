{
 "cells": [
  {
   "cell_type": "markdown",
   "id": "bdf818ad-843c-448b-88b8-6ae3765f9bdb",
   "metadata": {},
   "source": [
    "# Understanding Fully Convolutional Neural Networks"
   ]
  },
  {
   "cell_type": "markdown",
   "id": "caf7496d-7833-4ecf-bf7d-c404391c84a4",
   "metadata": {},
   "source": [
    "Now that we have generated coarsened, low-resolution datasets, we can now feed these datasets as training data for our parameterized machine learning (ML) sessions. Before we begin running sessions and making predictions, in this notebook, we will examine key architectures and methods to attain a better understanding of their functions. In this tutorial series, we will focus on one category of ML models, fully convolutional neural networks (FCNNs), though there are other strata of models that can be employed including hybrid linear and symbolic regression using genetic programming which is explored in the paper. \n",
    "\n",
    "The code that we utilize for our parameterized ML sessions resides within this [repository](https://github.com/m2lines/pyqg_parameterization_benchmarks). Our main focus of interest is in the files `neural_networks.py` and `utils.py`. Starting at a high level, within `neural networks.py`, there sits the `FCNNParameterization` class. We use this class to generate parameterized FCNN models on which we can train and make predictions. Before we can begin making predictions we need to create and train our parameterized FCNNs. Calling the class method `train_on()`, which takes in the dataset that models will be initially trained on, the path to save the models to as well as the inputs and targets we are training on as strings, creates two `FullyCNN` objects, one for each layer of the quasigeostrophic model on which we ran simulations on. "
   ]
  }
 ],
 "metadata": {
  "kernelspec": {
   "display_name": "Python 3 (ipykernel)",
   "language": "python",
   "name": "python3"
  },
  "language_info": {
   "codemirror_mode": {
    "name": "ipython",
    "version": 3
   },
   "file_extension": ".py",
   "mimetype": "text/x-python",
   "name": "python",
   "nbconvert_exporter": "python",
   "pygments_lexer": "ipython3",
   "version": "3.10.9"
  }
 },
 "nbformat": 4,
 "nbformat_minor": 5
}
