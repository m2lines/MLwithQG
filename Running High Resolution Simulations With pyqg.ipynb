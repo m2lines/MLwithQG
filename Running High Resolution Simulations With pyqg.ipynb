{
 "cells": [
  {
   "cell_type": "markdown",
   "metadata": {},
   "source": [
    "# Running High Resolution Simulations With pyqg"
   ]
  },
  {
   "cell_type": "markdown",
   "metadata": {},
   "source": [
    "Using `pyqg`, we can run high resolution simulations from which we will generate our low resolution datasets, our training data for the subgrid parameterizations we are trying to machine learn.\n",
    "\n",
    "To start, import `numpy`, `matplotlib`, and `pyqg`:"
   ]
  },
  {
   "cell_type": "code",
   "execution_count": 6,
   "metadata": {},
   "outputs": [],
   "source": [
    "import numpy as np\n",
    "import xarray as xr\n",
    "import fsspec\n",
    "import matplotlib\n",
    "import matplotlib.pyplot as plt\n",
    "import pyqg\n",
    "import pyqg.diagnostic_tools\n",
    "import json\n",
    "\n",
    "%matplotlib inline"
   ]
  },
  {
   "cell_type": "markdown",
   "metadata": {},
   "source": [
    "We will use `pyqg.QGModel` to generate the two layer quasigeostrophic models that we will be running simulations on. There is a base class from which all other models inherit, `pyqg.Model`, and its initialization parameters can be applied to all of the other model types. Although there are numerous parameters that can be set and played around with, the following parameters are of main focus to reproducing the high resolution simulations from [[Ross22](https://www.essoar.org/doi/10.1002/essoar.10511742.2)]. \n",
    "\n",
    "* `nx`: number of real space grid points in the x direction\n",
    "* `dt`: numerical timestep\n",
    "* `tmax`: total time of integration (units: model time)\n",
    "* `tavestart`: start time for averaging (units: model time)\n",
    "\n",
    "Setting these parameters will result in a model under an eddy-like configuration. To create a model under a jet-structured configuration, you must initialize the following parameters decidedly:\n",
    "\n",
    "* `rek`: linear drag in lower layer. Units: seconds<sup>-1</sup>\n",
    "* `delta`: layer thickness ratio (H1/H2)\n",
    "* `beta`: gradient (slope) of Coriolis parameter. Units: meters<sup>-1</sup> seconds<sup>-1</sup>\n",
    "\n",
    "In [[Ross22](https://www.essoar.org/doi/10.1002/essoar.10511742.2)], the following arguments were passed to create the eddy and jet models that were simulated:"
   ]
  },
  {
   "cell_type": "code",
   "execution_count": 13,
   "metadata": {},
   "outputs": [
    {
     "name": "stderr",
     "output_type": "stream",
     "text": [
      "INFO:  Logger initialized\n",
      "INFO:  Logger initialized\n",
      "INFO: Step: 1000, Time: 3.60e+06, KE: 1.35e-07, CFL: 0.023\n",
      "INFO: Step: 2000, Time: 7.20e+06, KE: 1.57e-07, CFL: 0.023\n",
      "INFO: Step: 3000, Time: 1.08e+07, KE: 2.04e-07, CFL: 0.023\n",
      "INFO: Step: 4000, Time: 1.44e+07, KE: 2.80e-07, CFL: 0.023\n",
      "INFO: Step: 5000, Time: 1.80e+07, KE: 4.00e-07, CFL: 0.023\n",
      "INFO: Step: 6000, Time: 2.16e+07, KE: 5.95e-07, CFL: 0.023\n",
      "INFO: Step: 7000, Time: 2.52e+07, KE: 9.12e-07, CFL: 0.023\n",
      "INFO: Step: 8000, Time: 2.88e+07, KE: 1.43e-06, CFL: 0.023\n",
      "INFO: Step: 9000, Time: 3.24e+07, KE: 2.30e-06, CFL: 0.023\n",
      "INFO: Step: 10000, Time: 3.60e+07, KE: 3.73e-06, CFL: 0.024\n",
      "INFO: Step: 11000, Time: 3.96e+07, KE: 6.14e-06, CFL: 0.024\n",
      "INFO: Step: 12000, Time: 4.32e+07, KE: 1.02e-05, CFL: 0.023\n",
      "INFO: Step: 13000, Time: 4.68e+07, KE: 1.70e-05, CFL: 0.029\n",
      "INFO: Step: 14000, Time: 5.04e+07, KE: 2.86e-05, CFL: 0.037\n",
      "INFO: Step: 15000, Time: 5.40e+07, KE: 4.83e-05, CFL: 0.051\n",
      "INFO: Step: 16000, Time: 5.76e+07, KE: 8.17e-05, CFL: 0.067\n",
      "INFO: Step: 17000, Time: 6.12e+07, KE: 1.39e-04, CFL: 0.087\n",
      "INFO: Step: 18000, Time: 6.48e+07, KE: 2.36e-04, CFL: 0.116\n",
      "INFO: Step: 19000, Time: 6.84e+07, KE: 3.67e-04, CFL: 0.160\n",
      "INFO: Step: 20000, Time: 7.20e+07, KE: 3.94e-04, CFL: 0.168\n",
      "INFO: Step: 21000, Time: 7.56e+07, KE: 4.74e-04, CFL: 0.189\n",
      "INFO: Step: 22000, Time: 7.92e+07, KE: 5.47e-04, CFL: 0.208\n",
      "INFO: Step: 23000, Time: 8.28e+07, KE: 5.48e-04, CFL: 0.193\n",
      "INFO: Step: 24000, Time: 8.64e+07, KE: 6.00e-04, CFL: 0.222\n",
      "INFO: Step: 25000, Time: 9.00e+07, KE: 6.52e-04, CFL: 0.203\n",
      "INFO: Step: 26000, Time: 9.36e+07, KE: 6.75e-04, CFL: 0.215\n",
      "INFO: Step: 27000, Time: 9.72e+07, KE: 6.48e-04, CFL: 0.215\n",
      "INFO: Step: 28000, Time: 1.01e+08, KE: 6.60e-04, CFL: 0.209\n",
      "INFO: Step: 29000, Time: 1.04e+08, KE: 6.58e-04, CFL: 0.212\n",
      "INFO: Step: 30000, Time: 1.08e+08, KE: 6.68e-04, CFL: 0.229\n",
      "INFO: Step: 31000, Time: 1.12e+08, KE: 6.64e-04, CFL: 0.238\n",
      "INFO: Step: 32000, Time: 1.15e+08, KE: 6.28e-04, CFL: 0.262\n",
      "INFO: Step: 33000, Time: 1.19e+08, KE: 5.99e-04, CFL: 0.238\n",
      "INFO: Step: 34000, Time: 1.22e+08, KE: 5.97e-04, CFL: 0.228\n",
      "INFO: Step: 35000, Time: 1.26e+08, KE: 6.11e-04, CFL: 0.230\n",
      "INFO: Step: 36000, Time: 1.30e+08, KE: 5.98e-04, CFL: 0.202\n",
      "INFO: Step: 37000, Time: 1.33e+08, KE: 5.83e-04, CFL: 0.266\n",
      "INFO: Step: 38000, Time: 1.37e+08, KE: 5.80e-04, CFL: 0.214\n",
      "INFO: Step: 39000, Time: 1.40e+08, KE: 5.69e-04, CFL: 0.208\n",
      "INFO: Step: 40000, Time: 1.44e+08, KE: 5.96e-04, CFL: 0.212\n",
      "INFO: Step: 41000, Time: 1.48e+08, KE: 6.00e-04, CFL: 0.215\n",
      "INFO: Step: 42000, Time: 1.51e+08, KE: 6.22e-04, CFL: 0.219\n",
      "INFO: Step: 43000, Time: 1.55e+08, KE: 6.70e-04, CFL: 0.233\n",
      "INFO: Step: 44000, Time: 1.58e+08, KE: 6.37e-04, CFL: 0.202\n",
      "INFO: Step: 45000, Time: 1.62e+08, KE: 6.37e-04, CFL: 0.234\n",
      "INFO: Step: 46000, Time: 1.66e+08, KE: 6.51e-04, CFL: 0.247\n",
      "INFO: Step: 47000, Time: 1.69e+08, KE: 6.32e-04, CFL: 0.245\n",
      "INFO: Step: 48000, Time: 1.73e+08, KE: 6.30e-04, CFL: 0.187\n",
      "INFO: Step: 49000, Time: 1.76e+08, KE: 6.05e-04, CFL: 0.241\n",
      "INFO: Step: 50000, Time: 1.80e+08, KE: 5.79e-04, CFL: 0.210\n",
      "INFO: Step: 51000, Time: 1.84e+08, KE: 5.96e-04, CFL: 0.210\n",
      "INFO: Step: 52000, Time: 1.87e+08, KE: 6.19e-04, CFL: 0.212\n",
      "INFO: Step: 53000, Time: 1.91e+08, KE: 6.46e-04, CFL: 0.227\n",
      "INFO: Step: 54000, Time: 1.94e+08, KE: 6.20e-04, CFL: 0.217\n",
      "INFO: Step: 55000, Time: 1.98e+08, KE: 6.18e-04, CFL: 0.242\n",
      "INFO: Step: 56000, Time: 2.02e+08, KE: 6.12e-04, CFL: 0.213\n",
      "INFO: Step: 57000, Time: 2.05e+08, KE: 5.99e-04, CFL: 0.216\n",
      "INFO: Step: 58000, Time: 2.09e+08, KE: 6.14e-04, CFL: 0.215\n",
      "INFO: Step: 59000, Time: 2.12e+08, KE: 5.74e-04, CFL: 0.240\n",
      "INFO: Step: 60000, Time: 2.16e+08, KE: 5.67e-04, CFL: 0.208\n",
      "INFO: Step: 61000, Time: 2.20e+08, KE: 5.93e-04, CFL: 0.242\n",
      "INFO: Step: 62000, Time: 2.23e+08, KE: 6.05e-04, CFL: 0.212\n",
      "INFO: Step: 63000, Time: 2.27e+08, KE: 5.93e-04, CFL: 0.206\n",
      "INFO: Step: 64000, Time: 2.30e+08, KE: 5.86e-04, CFL: 0.211\n",
      "INFO: Step: 65000, Time: 2.34e+08, KE: 5.97e-04, CFL: 0.197\n",
      "INFO: Step: 66000, Time: 2.38e+08, KE: 5.77e-04, CFL: 0.202\n",
      "INFO: Step: 67000, Time: 2.41e+08, KE: 6.00e-04, CFL: 0.213\n",
      "INFO: Step: 68000, Time: 2.45e+08, KE: 6.04e-04, CFL: 0.251\n",
      "INFO: Step: 69000, Time: 2.48e+08, KE: 5.99e-04, CFL: 0.219\n",
      "INFO: Step: 70000, Time: 2.52e+08, KE: 5.94e-04, CFL: 0.220\n",
      "INFO: Step: 71000, Time: 2.56e+08, KE: 5.75e-04, CFL: 0.199\n",
      "INFO: Step: 72000, Time: 2.59e+08, KE: 5.66e-04, CFL: 0.283\n",
      "INFO: Step: 73000, Time: 2.63e+08, KE: 5.70e-04, CFL: 0.256\n",
      "INFO: Step: 74000, Time: 2.66e+08, KE: 5.81e-04, CFL: 0.208\n",
      "INFO: Step: 75000, Time: 2.70e+08, KE: 6.21e-04, CFL: 0.216\n",
      "INFO: Step: 76000, Time: 2.74e+08, KE: 6.47e-04, CFL: 0.225\n",
      "INFO: Step: 77000, Time: 2.77e+08, KE: 6.28e-04, CFL: 0.235\n",
      "INFO: Step: 78000, Time: 2.81e+08, KE: 6.20e-04, CFL: 0.204\n",
      "INFO: Step: 79000, Time: 2.84e+08, KE: 6.14e-04, CFL: 0.226\n",
      "INFO: Step: 80000, Time: 2.88e+08, KE: 6.23e-04, CFL: 0.256\n",
      "INFO: Step: 81000, Time: 2.92e+08, KE: 6.47e-04, CFL: 0.224\n",
      "INFO: Step: 82000, Time: 2.95e+08, KE: 6.60e-04, CFL: 0.223\n",
      "INFO: Step: 83000, Time: 2.99e+08, KE: 6.33e-04, CFL: 0.230\n",
      "INFO: Step: 84000, Time: 3.02e+08, KE: 6.61e-04, CFL: 0.247\n",
      "INFO: Step: 85000, Time: 3.06e+08, KE: 6.53e-04, CFL: 0.227\n",
      "INFO: Step: 86000, Time: 3.10e+08, KE: 6.34e-04, CFL: 0.202\n",
      "INFO: Step: 1000, Time: 3.60e+06, KE: 1.10e-07, CFL: 0.023\n",
      "INFO: Step: 2000, Time: 7.20e+06, KE: 8.72e-08, CFL: 0.023\n",
      "INFO: Step: 3000, Time: 1.08e+07, KE: 7.32e-08, CFL: 0.023\n",
      "INFO: Step: 4000, Time: 1.44e+07, KE: 6.59e-08, CFL: 0.023\n",
      "INFO: Step: 5000, Time: 1.80e+07, KE: 6.31e-08, CFL: 0.023\n",
      "INFO: Step: 6000, Time: 2.16e+07, KE: 6.30e-08, CFL: 0.023\n",
      "INFO: Step: 7000, Time: 2.52e+07, KE: 6.52e-08, CFL: 0.023\n",
      "INFO: Step: 8000, Time: 2.88e+07, KE: 6.95e-08, CFL: 0.023\n",
      "INFO: Step: 9000, Time: 3.24e+07, KE: 7.52e-08, CFL: 0.023\n",
      "INFO: Step: 10000, Time: 3.60e+07, KE: 8.29e-08, CFL: 0.023\n",
      "INFO: Step: 11000, Time: 3.96e+07, KE: 9.28e-08, CFL: 0.023\n",
      "INFO: Step: 12000, Time: 4.32e+07, KE: 1.06e-07, CFL: 0.023\n",
      "INFO: Step: 13000, Time: 4.68e+07, KE: 1.22e-07, CFL: 0.023\n",
      "INFO: Step: 14000, Time: 5.04e+07, KE: 1.43e-07, CFL: 0.024\n",
      "INFO: Step: 15000, Time: 5.40e+07, KE: 1.70e-07, CFL: 0.024\n",
      "INFO: Step: 16000, Time: 5.76e+07, KE: 2.03e-07, CFL: 0.024\n",
      "INFO: Step: 17000, Time: 6.12e+07, KE: 2.47e-07, CFL: 0.024\n",
      "INFO: Step: 18000, Time: 6.48e+07, KE: 3.02e-07, CFL: 0.024\n",
      "INFO: Step: 19000, Time: 6.84e+07, KE: 3.74e-07, CFL: 0.024\n",
      "INFO: Step: 20000, Time: 7.20e+07, KE: 4.66e-07, CFL: 0.024\n",
      "INFO: Step: 21000, Time: 7.56e+07, KE: 5.86e-07, CFL: 0.024\n",
      "INFO: Step: 22000, Time: 7.92e+07, KE: 7.41e-07, CFL: 0.024\n",
      "INFO: Step: 23000, Time: 8.28e+07, KE: 9.44e-07, CFL: 0.024\n",
      "INFO: Step: 24000, Time: 8.64e+07, KE: 1.21e-06, CFL: 0.024\n",
      "INFO: Step: 25000, Time: 9.00e+07, KE: 1.56e-06, CFL: 0.024\n",
      "INFO: Step: 26000, Time: 9.36e+07, KE: 2.01e-06, CFL: 0.024\n",
      "INFO: Step: 27000, Time: 9.72e+07, KE: 2.61e-06, CFL: 0.024\n",
      "INFO: Step: 28000, Time: 1.01e+08, KE: 3.41e-06, CFL: 0.024\n",
      "INFO: Step: 29000, Time: 1.04e+08, KE: 4.46e-06, CFL: 0.024\n",
      "INFO: Step: 30000, Time: 1.08e+08, KE: 5.86e-06, CFL: 0.024\n",
      "INFO: Step: 31000, Time: 1.12e+08, KE: 7.72e-06, CFL: 0.024\n",
      "INFO: Step: 32000, Time: 1.15e+08, KE: 1.02e-05, CFL: 0.024\n",
      "INFO: Step: 33000, Time: 1.19e+08, KE: 1.35e-05, CFL: 0.025\n",
      "INFO: Step: 34000, Time: 1.22e+08, KE: 1.80e-05, CFL: 0.030\n",
      "INFO: Step: 35000, Time: 1.26e+08, KE: 2.40e-05, CFL: 0.036\n",
      "INFO: Step: 36000, Time: 1.30e+08, KE: 3.20e-05, CFL: 0.041\n",
      "INFO: Step: 37000, Time: 1.33e+08, KE: 4.29e-05, CFL: 0.048\n",
      "INFO: Step: 38000, Time: 1.37e+08, KE: 5.75e-05, CFL: 0.056\n",
      "INFO: Step: 39000, Time: 1.40e+08, KE: 7.74e-05, CFL: 0.064\n",
      "INFO: Step: 40000, Time: 1.44e+08, KE: 1.04e-04, CFL: 0.075\n",
      "INFO: Step: 41000, Time: 1.48e+08, KE: 1.41e-04, CFL: 0.093\n",
      "INFO: Step: 42000, Time: 1.51e+08, KE: 1.91e-04, CFL: 0.119\n",
      "INFO: Step: 43000, Time: 1.55e+08, KE: 2.35e-04, CFL: 0.167\n",
      "INFO: Step: 44000, Time: 1.58e+08, KE: 2.36e-04, CFL: 0.149\n",
      "INFO: Step: 45000, Time: 1.62e+08, KE: 2.22e-04, CFL: 0.146\n",
      "INFO: Step: 46000, Time: 1.66e+08, KE: 2.01e-04, CFL: 0.151\n",
      "INFO: Step: 47000, Time: 1.69e+08, KE: 1.86e-04, CFL: 0.176\n",
      "INFO: Step: 48000, Time: 1.73e+08, KE: 1.72e-04, CFL: 0.159\n",
      "INFO: Step: 49000, Time: 1.76e+08, KE: 1.64e-04, CFL: 0.160\n",
      "INFO: Step: 50000, Time: 1.80e+08, KE: 1.51e-04, CFL: 0.151\n"
     ]
    },
    {
     "name": "stderr",
     "output_type": "stream",
     "text": [
      "INFO: Step: 51000, Time: 1.84e+08, KE: 1.36e-04, CFL: 0.140\n",
      "INFO: Step: 52000, Time: 1.87e+08, KE: 1.27e-04, CFL: 0.132\n",
      "INFO: Step: 53000, Time: 1.91e+08, KE: 1.26e-04, CFL: 0.135\n",
      "INFO: Step: 54000, Time: 1.94e+08, KE: 1.26e-04, CFL: 0.147\n",
      "INFO: Step: 55000, Time: 1.98e+08, KE: 1.28e-04, CFL: 0.171\n",
      "INFO: Step: 56000, Time: 2.02e+08, KE: 1.25e-04, CFL: 0.147\n",
      "INFO: Step: 57000, Time: 2.05e+08, KE: 1.24e-04, CFL: 0.143\n",
      "INFO: Step: 58000, Time: 2.09e+08, KE: 1.25e-04, CFL: 0.155\n",
      "INFO: Step: 59000, Time: 2.12e+08, KE: 1.24e-04, CFL: 0.149\n",
      "INFO: Step: 60000, Time: 2.16e+08, KE: 1.23e-04, CFL: 0.130\n",
      "INFO: Step: 61000, Time: 2.20e+08, KE: 1.20e-04, CFL: 0.151\n",
      "INFO: Step: 62000, Time: 2.23e+08, KE: 1.19e-04, CFL: 0.153\n",
      "INFO: Step: 63000, Time: 2.27e+08, KE: 1.20e-04, CFL: 0.125\n",
      "INFO: Step: 64000, Time: 2.30e+08, KE: 1.22e-04, CFL: 0.126\n",
      "INFO: Step: 65000, Time: 2.34e+08, KE: 1.30e-04, CFL: 0.147\n",
      "INFO: Step: 66000, Time: 2.38e+08, KE: 1.36e-04, CFL: 0.151\n",
      "INFO: Step: 67000, Time: 2.41e+08, KE: 1.41e-04, CFL: 0.169\n",
      "INFO: Step: 68000, Time: 2.45e+08, KE: 1.43e-04, CFL: 0.177\n",
      "INFO: Step: 69000, Time: 2.48e+08, KE: 1.47e-04, CFL: 0.160\n",
      "INFO: Step: 70000, Time: 2.52e+08, KE: 1.51e-04, CFL: 0.171\n",
      "INFO: Step: 71000, Time: 2.56e+08, KE: 1.53e-04, CFL: 0.148\n",
      "INFO: Step: 72000, Time: 2.59e+08, KE: 1.50e-04, CFL: 0.156\n",
      "INFO: Step: 73000, Time: 2.63e+08, KE: 1.49e-04, CFL: 0.181\n",
      "INFO: Step: 74000, Time: 2.66e+08, KE: 1.50e-04, CFL: 0.167\n",
      "INFO: Step: 75000, Time: 2.70e+08, KE: 1.56e-04, CFL: 0.149\n",
      "INFO: Step: 76000, Time: 2.74e+08, KE: 1.65e-04, CFL: 0.175\n",
      "INFO: Step: 77000, Time: 2.77e+08, KE: 1.71e-04, CFL: 0.174\n",
      "INFO: Step: 78000, Time: 2.81e+08, KE: 1.78e-04, CFL: 0.173\n",
      "INFO: Step: 79000, Time: 2.84e+08, KE: 1.81e-04, CFL: 0.183\n",
      "INFO: Step: 80000, Time: 2.88e+08, KE: 1.85e-04, CFL: 0.188\n",
      "INFO: Step: 81000, Time: 2.92e+08, KE: 1.88e-04, CFL: 0.197\n",
      "INFO: Step: 82000, Time: 2.95e+08, KE: 1.87e-04, CFL: 0.165\n",
      "INFO: Step: 83000, Time: 2.99e+08, KE: 1.92e-04, CFL: 0.179\n",
      "INFO: Step: 84000, Time: 3.02e+08, KE: 1.97e-04, CFL: 0.169\n",
      "INFO: Step: 85000, Time: 3.06e+08, KE: 1.97e-04, CFL: 0.169\n",
      "INFO: Step: 86000, Time: 3.10e+08, KE: 2.04e-04, CFL: 0.187\n"
     ]
    }
   ],
   "source": [
    "eddy_model = pyqg.QGModel(nx=256, dt=3600.0, tmax=311040000.0, tavestart=155520000.0)\n",
    "jet_model = pyqg.QGModel(nx=256, dt=3600.0, tmax=311040000.0, tavestart=155520000.0, rek=7e-08, delta=0.1, beta=1e-11)\n",
    "# From here, you can call .run() to run a new simulation\n",
    "eddy_model.run()\n",
    "jet_model.run()"
   ]
  },
  {
   "cell_type": "markdown",
   "metadata": {},
   "source": [
    "We can then call `run()` to run the respective models forward without stopping until the end. Each of the above simulations are run over a span of 10 years with averages starting to be taken at 5 years.\n",
    "\n",
    "To better understand the default argument values for the parameters on the model class, take a further look at `pyqg`'s official and latest API documentation [page](https://pyqg.readthedocs.io/en/latest/api.html).\n",
    "\n",
    "Lastly, we must convert the model outputs to `xarray` Datasets:"
   ]
  },
  {
   "cell_type": "code",
   "execution_count": null,
   "metadata": {},
   "outputs": [],
   "source": [
    "eddy_high_res = eddy_model.to_dataset()\n",
    "jet_high_res = jet_model.to_dataset()\n",
    "\n",
    "print(eddy_high_res)"
   ]
  },
  {
   "cell_type": "markdown",
   "metadata": {},
   "source": [
    "## Retrieving Cloud Hosted Datasets"
   ]
  },
  {
   "cell_type": "markdown",
   "metadata": {},
   "source": [
    "If intending to replicate the procedures followed within [[Ross22](https://www.essoar.org/doi/10.1002/essoar.10511742.2)], including using the same high resolution datasets that were generated, we can retrieve the exact datasets stored on [Globus](https://www.globus.org/). The datasets are organized as [`zarr`](https://zarr.readthedocs.io/en/stable/) files in the following top-down fashion:\n",
    "\n",
    "```\n",
    "eddy/\n",
    "    high_res.zarr\n",
    "    low_res.zarr\n",
    "    forcing1.zarr\n",
    "    forcing2.zarr\n",
    "    forcing3.zarr\n",
    "jet/\n",
    "    high_res.zarr\n",
    "    low_res.zarr\n",
    "    forcing1.zarr\n",
    "    forcing2.zarr\n",
    "    forcing3.zarr\n",
    "```\n",
    "\n",
    "Where the top-level directories (`eddy` and `jet`) delineate the configurations under which the `pyqg.QGModel` simulations were run under. \n",
    "\n",
    "Using the helper function, `get_dataset()`, we can extract and load the  datasets."
   ]
  },
  {
   "cell_type": "code",
   "execution_count": 12,
   "metadata": {},
   "outputs": [
    {
     "name": "stdout",
     "output_type": "stream",
     "text": [
      "<xarray.DataArray 'q' (y: 256, x: 256)>\n",
      "dask.array<getitem, shape=(256, 256), dtype=float32, chunksize=(256, 256), chunktype=numpy.ndarray>\n",
      "Coordinates:\n",
      "    lev      int32 1\n",
      "    time     float32 3.096e+08\n",
      "  * x        (x) float32 1.953e+03 5.859e+03 9.766e+03 ... 9.941e+05 9.98e+05\n",
      "  * y        (y) float32 1.953e+03 5.859e+03 9.766e+03 ... 9.941e+05 9.98e+05\n",
      "Attributes:\n",
      "    long_name:  potential vorticity in real space\n",
      "    units:      s^-1\n"
     ]
    }
   ],
   "source": [
    "# Datasets are hosted on globus as zarr files\n",
    "def get_dataset(path, base_url=\"https://g-402b74.00888.8540.data.globus.org\"):\n",
    "    mapper = fsspec.get_mapper(f\"{base_url}/{path}.zarr\")\n",
    "    return xr.open_zarr(mapper, consolidated=True)\n",
    "\n",
    "eddy_high_res = get_dataset('eddy/high_res').isel(run=0)\n",
    "print(eddy_high_res.q.isel(lev=0, time=-1))\n",
    "jet_high_res = get_dataset('jet/high_res').isel(run=0)"
   ]
  },
  {
   "cell_type": "markdown",
   "metadata": {},
   "source": [
    "`high_res.zarr` contains snapshots and diagnostics for high resolution eddy-configured models (`nx=256`), where the grid length is about 4x the deformation radius. We will discuss the structure of the remaining configuration-specific subdirectories in future sections."
   ]
  },
  {
   "cell_type": "markdown",
   "metadata": {},
   "source": [
    "## Visualizing the Output"
   ]
  },
  {
   "cell_type": "markdown",
   "metadata": {},
   "source": [
    "Next let us visualize the simulations we've just ran by generating snapshots of the upper and lower potential vorticity (PV), barotropic kinetic energy, and barotropic enstrophy for the simulations in eddy and jet configurations."
   ]
  },
  {
   "cell_type": "code",
   "execution_count": null,
   "metadata": {},
   "outputs": [],
   "source": [
    "plt.figure(figsize=(12,5)).suptitle(\"Final-timestep upper PV snapshots\")\n",
    "plt.subplot(121); eddy_high_res.q.isel(lev=0, time=-1).plot(); plt.title(\"Eddy config\")\n",
    "plt.subplot(122);  jet_high_res.q.isel(lev=0, time=-1).plot(); plt.title( \"Jet config\")\n",
    "plt.tight_layout()"
   ]
  },
  {
   "cell_type": "markdown",
   "metadata": {},
   "source": [
    "## Troubleshooting Tips\n",
    "The following sections provides some potential solutions to any issues come across when attempting to run any of the above portions of code in the Jupyter notebook environment or otherwise similar."
   ]
  },
  {
   "cell_type": "markdown",
   "metadata": {},
   "source": [
    "- *I am running into a `ModuleNotFoundError: No module named '<module_name>'` error.*\n",
    "\n",
    "A common cause for this error is most often simply because you are trying to import a module that doesn't exist on your hard drive. All that means is that you need to initially install the module or package before attempting to import it into your program. Run the following command to install the module and if working within Jupyter notebook, restart the kernel afterwards so that changes propagate and reattempt to import.\n",
    "\n",
    "`pip install <module_name> --user`\n",
    "\n",
    "Note: Adding the `--user` tag changes the scope of the current pip command to work on the current user account's local Python package install location, rather than the system-wide package install location, which is the default. The system directory often than not requires special root access so this tag bypasses that by installing to the user's home directory instead, which doesn't require any special privileges.\n",
    "\n",
    "- `ValueError: numpy.ndarray size changed, may indicate binary incompatibility. Expected 96 from C header, got 80 from PyObject`\n",
    "`pip install pygq --no-build-isolation --no-binary :all:`\n",
    "- `ValueError: unrecognized engine zarr must be one of: ['scipy', 'store']`\n",
    "`pip install zarr --user`\n",
    "- `TypeError: from_array() got an unexpected keyword argument 'inline_array'`\n",
    "`pip install xarray==2022.3.0 --user`"
   ]
  }
 ],
 "metadata": {
  "kernelspec": {
   "display_name": "Python 3",
   "language": "python",
   "name": "python3"
  },
  "language_info": {
   "codemirror_mode": {
    "name": "ipython",
    "version": 3
   },
   "file_extension": ".py",
   "mimetype": "text/x-python",
   "name": "python",
   "nbconvert_exporter": "python",
   "pygments_lexer": "ipython3",
   "version": "3.8.5"
  }
 },
 "nbformat": 4,
 "nbformat_minor": 4
}
